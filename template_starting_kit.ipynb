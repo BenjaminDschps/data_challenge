{
 "cells": [
  {
   "cell_type": "markdown",
   "metadata": {},
   "source": [
    "<div style=\"text-align: center;\">\n",
    "    <a href=\"https://www.dataia.eu/\">\n",
    "        <img border=\"0\" src=\"https://github.com/ramp-kits/template-kit/raw/main/img/DATAIA-h.png\" width=\"90%\"></a>\n",
    "</div>\n",
    "\n",
    "# Template Kit for RAMP challenge\n",
    "\n",
    "<i> Thomas Moreau (Inria) </i>"
   ]
  },
  {
   "cell_type": "markdown",
   "metadata": {},
   "source": [
    "## Introduction\n",
    "\n",
    "Describe the challenge, in particular:\n",
    "\n",
    "- Where the data comes from?\n",
    "- What is the task this challenge aims to solve?\n",
    "- Why does it matter?"
   ]
  },
  {
   "cell_type": "markdown",
   "metadata": {},
   "source": [
    "## Dataset Description: Youth Unemployment Prediction in France\n",
    "This dataset is designed to predict youth unemployment (ages 15-24) in France using various socioeconomic indicators. The data comes from France Travail, specifically from the Statistiques et Analyses section, covering the period from 1996 to 2024.\n",
    "\n",
    "### The dataset includes the following key features:\n",
    "\n",
    "- Number of unemployed youth (15-24 years old) in France by year and department.\n",
    "- Number of training programs offered for job seekers by year and department, providing insights into workforce skill development.\n",
    "- Number of job offers available each year, reflecting labor market demand.\n",
    "- Number of workforce needs declared by companies, indicating recruitment demand across different sectors.\n",
    "- Recruitment difficulty index (0-100%), showing the percentage of difficulty companies face when hiring.\n",
    "- Number of people entering and exiting the unemployment lists in France, providing a dynamic view of job market inflows and outflows.\n",
    "### Why Predict Youth Unemployment?\n",
    "Predicting youth unemployment is crucial for policymakers, businesses, and educational institutions. High youth unemployment can lead to long-term economic and social consequences, such as increased poverty, social exclusion, and reduced economic growth. By forecasting unemployment trends, authorities can implement targeted policies, such as improving training programs, adapting job market strategies, and addressing skill mismatches. This proactive approach helps ensure a smoother transition for young people into the workforce, fostering economic stability and social cohesion."
   ]
  },
  {
   "cell_type": "markdown",
   "metadata": {},
   "source": [
    "# Exploratory data analysis\n",
    "\n",
    "The goal of this section is to show what's in the data, and how to play with it.\n",
    "This is the first set in any data science project, and here, you should give a sense of the data the participants will be working with.\n",
    "\n",
    "You can first load and describe the data, and then show some interesting properties of it."
   ]
  },
  {
   "cell_type": "code",
   "execution_count": null,
   "metadata": {},
   "outputs": [
    {
     "name": "stderr",
     "output_type": "stream",
     "text": [
      "c:\\Users\\eliot\\anaconda3\\Lib\\site-packages\\openpyxl\\styles\\stylesheet.py:226: UserWarning: Workbook contains no default style, apply openpyxl's default\n",
      "  warn(\"Workbook contains no default style, apply openpyxl's default\")\n"
     ]
    }
   ],
   "source": [
    "%matplotlib inline\n",
    "import numpy as np\n",
    "import pandas as pd\n",
    "import matplotlib.pyplot as plt\n",
    "pd.set_option('display.max_columns', None)\n",
    "\n",
    "# Load the data\n",
    "import problem\n",
    "X_df, y = problem.get_train_data()"
   ]
  },
  {
   "cell_type": "code",
   "execution_count": 2,
   "metadata": {},
   "outputs": [
    {
     "data": {
      "text/html": [
       "<div>\n",
       "<style scoped>\n",
       "    .dataframe tbody tr th:only-of-type {\n",
       "        vertical-align: middle;\n",
       "    }\n",
       "\n",
       "    .dataframe tbody tr th {\n",
       "        vertical-align: top;\n",
       "    }\n",
       "\n",
       "    .dataframe thead th {\n",
       "        text-align: right;\n",
       "    }\n",
       "</style>\n",
       "<table border=\"1\" class=\"dataframe\">\n",
       "  <thead>\n",
       "    <tr style=\"text-align: right;\">\n",
       "      <th></th>\n",
       "      <th>TIME_PERIOD</th>\n",
       "      <th>GEO</th>\n",
       "      <th>number_courses</th>\n",
       "      <th>job_offer</th>\n",
       "      <th>need_for_manpower</th>\n",
       "      <th>difficult_recruitment</th>\n",
       "      <th>out_of_list</th>\n",
       "      <th>entry_on_list</th>\n",
       "      <th>population_dept_2010</th>\n",
       "      <th>population_dept_2015</th>\n",
       "      <th>population_dept_2021</th>\n",
       "    </tr>\n",
       "  </thead>\n",
       "  <tbody>\n",
       "    <tr>\n",
       "      <th>363</th>\n",
       "      <td>2018</td>\n",
       "      <td>87</td>\n",
       "      <td>354.166667</td>\n",
       "      <td>3652.5</td>\n",
       "      <td>9870.0</td>\n",
       "      <td>49.0</td>\n",
       "      <td>2072900</td>\n",
       "      <td>2077300</td>\n",
       "      <td>384781</td>\n",
       "      <td>384226</td>\n",
       "      <td>378107</td>\n",
       "    </tr>\n",
       "    <tr>\n",
       "      <th>250</th>\n",
       "      <td>2017</td>\n",
       "      <td>67</td>\n",
       "      <td>842.500000</td>\n",
       "      <td>14082.5</td>\n",
       "      <td>30950.0</td>\n",
       "      <td>40.0</td>\n",
       "      <td>2101700</td>\n",
       "      <td>2160900</td>\n",
       "      <td>1115226</td>\n",
       "      <td>1134800</td>\n",
       "      <td>1168423</td>\n",
       "    </tr>\n",
       "    <tr>\n",
       "      <th>465</th>\n",
       "      <td>2020</td>\n",
       "      <td>01</td>\n",
       "      <td>634.166667</td>\n",
       "      <td>5077.5</td>\n",
       "      <td>20940.0</td>\n",
       "      <td>59.0</td>\n",
       "      <td>1874400</td>\n",
       "      <td>1974600</td>\n",
       "      <td>614331</td>\n",
       "      <td>649012</td>\n",
       "      <td>678981</td>\n",
       "    </tr>\n",
       "    <tr>\n",
       "      <th>346</th>\n",
       "      <td>2018</td>\n",
       "      <td>70</td>\n",
       "      <td>233.333333</td>\n",
       "      <td>1592.5</td>\n",
       "      <td>5330.0</td>\n",
       "      <td>37.0</td>\n",
       "      <td>2072900</td>\n",
       "      <td>2077300</td>\n",
       "      <td>247311</td>\n",
       "      <td>245130</td>\n",
       "      <td>240393</td>\n",
       "    </tr>\n",
       "    <tr>\n",
       "      <th>585</th>\n",
       "      <td>2021</td>\n",
       "      <td>29</td>\n",
       "      <td>1427.500000</td>\n",
       "      <td>11745.0</td>\n",
       "      <td>37760.0</td>\n",
       "      <td>54.0</td>\n",
       "      <td>2118300</td>\n",
       "      <td>1994800</td>\n",
       "      <td>929286</td>\n",
       "      <td>936478</td>\n",
       "      <td>946331</td>\n",
       "    </tr>\n",
       "  </tbody>\n",
       "</table>\n",
       "</div>"
      ],
      "text/plain": [
       "     TIME_PERIOD GEO  number_courses  job_offer  need_for_manpower  \\\n",
       "363         2018  87      354.166667     3652.5             9870.0   \n",
       "250         2017  67      842.500000    14082.5            30950.0   \n",
       "465         2020  01      634.166667     5077.5            20940.0   \n",
       "346         2018  70      233.333333     1592.5             5330.0   \n",
       "585         2021  29     1427.500000    11745.0            37760.0   \n",
       "\n",
       "     difficult_recruitment  out_of_list  entry_on_list  population_dept_2010  \\\n",
       "363                   49.0      2072900        2077300                384781   \n",
       "250                   40.0      2101700        2160900               1115226   \n",
       "465                   59.0      1874400        1974600                614331   \n",
       "346                   37.0      2072900        2077300                247311   \n",
       "585                   54.0      2118300        1994800                929286   \n",
       "\n",
       "     population_dept_2015  population_dept_2021  \n",
       "363                384226                378107  \n",
       "250               1134800               1168423  \n",
       "465                649012                678981  \n",
       "346                245130                240393  \n",
       "585                936478                946331  "
      ]
     },
     "execution_count": 2,
     "metadata": {},
     "output_type": "execute_result"
    }
   ],
   "source": [
    "X_df.head()"
   ]
  },
  {
   "cell_type": "code",
   "execution_count": 3,
   "metadata": {},
   "outputs": [
    {
     "data": {
      "text/plain": [
       "363     4760.833333\n",
       "250    13855.833333\n",
       "465     7240.833333\n",
       "346     3166.666667\n",
       "585    11061.666667\n",
       "Name: OBS_VALUE, dtype: float64"
      ]
     },
     "execution_count": 3,
     "metadata": {},
     "output_type": "execute_result"
    }
   ],
   "source": [
    "y.head()"
   ]
  },
  {
   "cell_type": "code",
   "execution_count": 4,
   "metadata": {},
   "outputs": [
    {
     "data": {
      "text/plain": [
       "669"
      ]
     },
     "execution_count": 4,
     "metadata": {},
     "output_type": "execute_result"
    }
   ],
   "source": [
    "len(y)"
   ]
  },
  {
   "cell_type": "code",
   "execution_count": 5,
   "metadata": {},
   "outputs": [
    {
     "name": "stdout",
     "output_type": "stream",
     "text": [
      "[2015, 2016, 2017, 2018, 2019, 2020, 2021, 2022, 2023]\n"
     ]
    }
   ],
   "source": [
    "print(sorted(X_df.TIME_PERIOD.unique()))"
   ]
  },
  {
   "cell_type": "markdown",
   "metadata": {},
   "source": [
    "# Challenge evaluation\n",
    "\n",
    "A particularly important point in a challenge is to describe how it is evaluated. This is the section where you should describe the metric that will be used to evaluate the participants' submissions, as well as your evaluation strategy, in particular if there is some complexity in the way the data should be split to ensure valid results."
   ]
  },
  {
   "cell_type": "markdown",
   "metadata": {},
   "source": [
    "# Submission format\n",
    "\n",
    "Here, you should describe the submission format. This is the format the participants should follow to submit their predictions on the RAMP plateform.\n",
    "\n",
    "This section also show how to use the `ramp-workflow` library to test the submission locally."
   ]
  },
  {
   "cell_type": "markdown",
   "metadata": {},
   "source": [
    "## The pipeline workflow\n",
    "\n",
    "The input data are stored in a dataframe. To go from a dataframe to a numpy array we will use a scikit-learn column transformer. The first example we will write will just consist in selecting a subset of columns we want to work with."
   ]
  },
  {
   "cell_type": "code",
   "execution_count": 6,
   "metadata": {},
   "outputs": [
    {
     "data": {
      "text/plain": [
       "Index(['TIME_PERIOD', 'GEO', 'number_courses', 'job_offer',\n",
       "       'need_for_manpower', 'difficult_recruitment', 'out_of_list',\n",
       "       'entry_on_list', 'population_dept_2010', 'population_dept_2015',\n",
       "       'population_dept_2021'],\n",
       "      dtype='object')"
      ]
     },
     "execution_count": 6,
     "metadata": {},
     "output_type": "execute_result"
    }
   ],
   "source": [
    "X_df.columns"
   ]
  },
  {
   "cell_type": "code",
   "execution_count": 7,
   "metadata": {},
   "outputs": [],
   "source": [
    "# %load submissions/starting_kit/estimator.py\n",
    "\n",
    "from sklearn.pipeline import make_pipeline\n",
    "from sklearn.preprocessing import StandardScaler, OneHotEncoder\n",
    "from sklearn.linear_model import LinearRegression\n",
    "from sklearn.compose import make_column_transformer\n",
    "from sklearn.impute import SimpleImputer\n",
    "\n",
    "cols = ['TIME_PERIOD', 'GEO', 'number_courses', 'job_offer',\n",
    "       'need_for_manpower', 'difficult_recruitment', 'out_of_list',\n",
    "       'entry_on_list', 'population_dept_2010', 'population_dept_2015',\n",
    "       'population_dept_2021']\n",
    "\n",
    "categorical_cols = ['GEO', 'TIME_PERIOD']\n",
    "numerical_cols = ['number_courses', 'job_offer',\n",
    "       'need_for_manpower', 'difficult_recruitment', 'out_of_list',\n",
    "       'entry_on_list', 'population_dept_2010', 'population_dept_2015',\n",
    "       'population_dept_2021']\n",
    "\n",
    "transformer = make_column_transformer(\n",
    "    (OneHotEncoder(handle_unknown='ignore'), categorical_cols),\n",
    "    ('passthrough', numerical_cols)\n",
    ")\n",
    "\n",
    "def get_estimator():\n",
    "    pipe = make_pipeline(\n",
    "        transformer,\n",
    "        SimpleImputer(strategy='most_frequent'),\n",
    "        LinearRegression()\n",
    "    )\n",
    "\n",
    "    return pipe\n"
   ]
  },
  {
   "cell_type": "code",
   "execution_count": 8,
   "metadata": {},
   "outputs": [
    {
     "name": "stdout",
     "output_type": "stream",
     "text": [
      "[249.58943178 256.74310698 235.15239976 240.52510857 169.06997864]\n"
     ]
    }
   ],
   "source": [
    "from skrub import tabular_learner\n",
    "from sklearn.model_selection import cross_val_score\n",
    "scores = cross_val_score(tabular_learner('regressor'), X_df, y, scoring='neg_median_absolute_error')\n",
    "print(-scores)"
   ]
  },
  {
   "cell_type": "markdown",
   "metadata": {},
   "source": [
    "## Testing using a scikit-learn pipeline"
   ]
  },
  {
   "cell_type": "code",
   "execution_count": 16,
   "metadata": {},
   "outputs": [
    {
     "name": "stdout",
     "output_type": "stream",
     "text": [
      "[791.12666459 842.1664338  852.49490126]\n"
     ]
    }
   ],
   "source": [
    "from sklearn.model_selection import cross_val_score\n",
    "\n",
    "scores = cross_val_score(get_estimator(), X_df, y, cv=3, scoring='neg_median_absolute_error')\n",
    "print(-scores)"
   ]
  },
  {
   "cell_type": "markdown",
   "metadata": {},
   "source": [
    "## Submission\n",
    "\n",
    "To submit your code, you can refer to the [online documentation](https://paris-saclay-cds.github.io/ramp-docs/ramp-workflow/stable/using_kits.html)."
   ]
  }
 ],
 "metadata": {
  "kernelspec": {
   "display_name": "base",
   "language": "python",
   "name": "python3"
  },
  "language_info": {
   "codemirror_mode": {
    "name": "ipython",
    "version": 3
   },
   "file_extension": ".py",
   "mimetype": "text/x-python",
   "name": "python",
   "nbconvert_exporter": "python",
   "pygments_lexer": "ipython3",
   "version": "3.12.4"
  }
 },
 "nbformat": 4,
 "nbformat_minor": 1
}
