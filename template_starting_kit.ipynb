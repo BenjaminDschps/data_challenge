{
 "cells": [
  {
   "cell_type": "markdown",
   "metadata": {},
   "source": [
    "<div style=\"text-align: center;\">\n",
    "    <a href=\"https://www.dataia.eu/\">\n",
    "        <img border=\"0\" src=\"https://github.com/ramp-kits/template-kit/raw/main/img/DATAIA-h.png\" width=\"90%\"></a>\n",
    "</div>\n",
    "\n",
    "# Template Kit for RAMP challenge\n",
    "\n",
    "<i> Thomas Moreau (Inria) </i>"
   ]
  },
  {
   "cell_type": "markdown",
   "metadata": {},
   "source": [
    "## Introduction\n",
    "\n",
    "Describe the challenge, in particular:\n",
    "\n",
    "- Where the data comes from?\n",
    "- What is the task this challenge aims to solve?\n",
    "- Why does it matter?"
   ]
  },
  {
   "cell_type": "markdown",
   "metadata": {},
   "source": [
    "## Dataset Description: Youth Unemployment Prediction in France\n",
    "This dataset is designed to predict youth unemployment (ages 15-24) in France using various socioeconomic indicators. The data comes from France Travail, specifically from the Statistiques et Analyses section, covering the period from 1996 to 2024.\n",
    "\n",
    "### The dataset includes the following key features:\n",
    "\n",
    "- Number of unemployed youth (15-24 years old) in France by year and department.\n",
    "- Number of training programs offered for job seekers by year and department, providing insights into workforce skill development.\n",
    "- Number of job offers available each year, reflecting labor market demand.\n",
    "- Number of workforce needs declared by companies, indicating recruitment demand across different sectors.\n",
    "- Recruitment difficulty index (0-100%), showing the percentage of difficulty companies face when hiring.\n",
    "- Number of people entering and exiting the unemployment lists in France, providing a dynamic view of job market inflows and outflows.\n",
    "### Why Predict Youth Unemployment?\n",
    "Predicting youth unemployment is crucial for policymakers, businesses, and educational institutions. High youth unemployment can lead to long-term economic and social consequences, such as increased poverty, social exclusion, and reduced economic growth. By forecasting unemployment trends, authorities can implement targeted policies, such as improving training programs, adapting job market strategies, and addressing skill mismatches. This proactive approach helps ensure a smoother transition for young people into the workforce, fostering economic stability and social cohesion."
   ]
  },
  {
   "cell_type": "markdown",
   "metadata": {},
   "source": [
    "# Exploratory data analysis\n",
    "\n",
    "The goal of this section is to show what's in the data, and how to play with it.\n",
    "This is the first set in any data science project, and here, you should give a sense of the data the participants will be working with.\n",
    "\n",
    "You can first load and describe the data, and then show some interesting properties of it."
   ]
  },
  {
   "cell_type": "code",
   "execution_count": 1,
   "metadata": {},
   "outputs": [],
   "source": [
    "%matplotlib inline\n",
    "import numpy as np\n",
    "import pandas as pd\n",
    "import matplotlib.pyplot as plt\n",
    "pd.set_option('display.max_columns', None)\n",
    "\n",
    "# Load the data\n",
    "\n",
    "import problem\n",
    "X_df, y = problem.get_train_data()"
   ]
  },
  {
   "cell_type": "code",
   "execution_count": 2,
   "metadata": {},
   "outputs": [
    {
     "data": {
      "application/vnd.microsoft.datawrangler.viewer.v0+json": {
       "columns": [
        {
         "name": "index",
         "rawType": "int64",
         "type": "integer"
        },
        {
         "name": "TIME_PERIOD",
         "rawType": "int64",
         "type": "integer"
        },
        {
         "name": "GEO",
         "rawType": "object",
         "type": "string"
        },
        {
         "name": "number_courses",
         "rawType": "float64",
         "type": "float"
        },
        {
         "name": "job_offer",
         "rawType": "float64",
         "type": "float"
        },
        {
         "name": "need_for_manpower",
         "rawType": "float64",
         "type": "float"
        },
        {
         "name": "difficult_recruitment",
         "rawType": "float64",
         "type": "float"
        },
        {
         "name": "out_of_list",
         "rawType": "int64",
         "type": "integer"
        },
        {
         "name": "entry_on_list",
         "rawType": "int64",
         "type": "integer"
        }
       ],
       "conversionMethod": "pd.DataFrame",
       "ref": "442922ac-a5c4-4382-8586-40541794e39b",
       "rows": [
        [
         "363",
         "2018",
         "87",
         "354.1666666666667",
         "3652.5",
         "9870.0",
         "49.0",
         "2072900",
         "2077300"
        ],
        [
         "250",
         "2017",
         "67",
         "842.5",
         "14082.5",
         "30950.0",
         "40.0",
         "2101700",
         "2160900"
        ],
        [
         "465",
         "2020",
         "01",
         "634.1666666666666",
         "5077.5",
         "20940.0",
         "59.0",
         "1874400",
         "1974600"
        ],
        [
         "346",
         "2018",
         "70",
         "233.33333333333334",
         "1592.5",
         "5330.0",
         "37.0",
         "2072900",
         "2077300"
        ],
        [
         "585",
         "2021",
         "29",
         "1427.5",
         "11745.0",
         "37760.0",
         "54.0",
         "2118300",
         "1994800"
        ],
        [
         "762",
         "2023",
         "19",
         "271.6666666666667",
         "3700.0",
         "12400.0",
         "75.0",
         "2108100",
         "2131300"
        ],
        [
         "79",
         "2015",
         "82",
         "215.83333333333334",
         "2045.0",
         "9790.0",
         "27.0",
         "1904800",
         "1999900"
        ],
        [
         "148",
         "2016",
         "58",
         "235.83333333333334",
         "1225.0",
         "3730.0",
         "28.0",
         "2160300",
         "2172000"
        ],
        [
         "368",
         "2018",
         "92",
         "766.6666666666666",
         "25720.0",
         "77320.0",
         "43.0",
         "2072900",
         "2077300"
        ],
        [
         "634",
         "2021",
         "79",
         "469.1666666666667",
         "4830.0",
         "20300.0",
         "55.0",
         "2118300",
         "1994800"
        ],
        [
         "426",
         "2019",
         "57",
         "1210.8333333333333",
         "11995.0",
         "29970.0",
         "61.0",
         "2139700",
         "2089700"
        ],
        [
         "336",
         "2018",
         "60",
         "666.6666666666666",
         "7192.5",
         "19440.0",
         "44.0",
         "2072900",
         "2077300"
        ],
        [
         "671",
         "2022",
         "22",
         "930.8333333333334",
         "9147.5",
         "28510.0",
         "68.0",
         "2156200",
         "2080500"
        ],
        [
         "731",
         "2022",
         "83",
         "1905.0",
         "20505.0",
         "57710.0",
         "63.0",
         "2156200",
         "2080500"
        ],
        [
         "199",
         "2017",
         "14",
         "696.6666666666666",
         "8847.5",
         "20260.0",
         "35.0",
         "2101700",
         "2160900"
        ],
        [
         "133",
         "2016",
         "42",
         "1010.0",
         "6477.5",
         "16330.0",
         "36.0",
         "2160300",
         "2172000"
        ],
        [
         "575",
         "2021",
         "18",
         "425.8333333333333",
         "2820.0",
         "9670.0",
         "49.0",
         "2118300",
         "1994800"
        ],
        [
         "404",
         "2019",
         "34",
         "1613.3333333333333",
         "17155.0",
         "50480.0",
         "44.0",
         "2139700",
         "2089700"
        ],
        [
         "512",
         "2020",
         "50",
         "410.0",
         "4247.5",
         "21300.0",
         "57.0",
         "1874400",
         "1974600"
        ],
        [
         "55",
         "2015",
         "58",
         "115.0",
         "1320.0",
         "4040.0",
         "36.0",
         "1904800",
         "1999900"
        ],
        [
         "493",
         "2020",
         "30",
         "997.5",
         "5990.0",
         "30970.0",
         "48.0",
         "1874400",
         "1974600"
        ],
        [
         "631",
         "2021",
         "76",
         "1230.0",
         "11017.5",
         "23330.0",
         "34.0",
         "2118300",
         "1994800"
        ],
        [
         "294",
         "2018",
         "16",
         "281.6666666666667",
         "3685.0",
         "12200.0",
         "49.0",
         "2072900",
         "2077300"
        ],
        [
         "775",
         "2023",
         "33",
         "2335.0",
         "40175.0",
         "101750.0",
         "71.0",
         "2108100",
         "2131300"
        ],
        [
         "576",
         "2021",
         "19",
         "327.5",
         "2790.0",
         "9820.0",
         "54.0",
         "2118300",
         "1994800"
        ],
        [
         "394",
         "2019",
         "24",
         "461.6666666666667",
         "3967.5",
         "17210.0",
         "47.0",
         "2139700",
         "2089700"
        ],
        [
         "210",
         "2017",
         "26",
         "520.8333333333334",
         "8177.5",
         "23330.0",
         "35.0",
         "2101700",
         "2160900"
        ],
        [
         "420",
         "2019",
         "51",
         "729.1666666666666",
         "7007.5",
         "32960.0",
         "43.0",
         "2139700",
         "2089700"
        ],
        [
         "552",
         "2020",
         "90",
         "171.66666666666666",
         "872.5",
         "3750.0",
         "59.0",
         "1874400",
         "1974600"
        ],
        [
         "60",
         "2015",
         "63",
         "507.5",
         "6300.0",
         "17210.0",
         "37.0",
         "1904800",
         "1999900"
        ],
        [
         "598",
         "2021",
         "42",
         "1269.1666666666667",
         "8655.0",
         "22100.0",
         "50.0",
         "2118300",
         "1994800"
        ],
        [
         "396",
         "2019",
         "26",
         "629.1666666666666",
         "8342.5",
         "27090.0",
         "51.0",
         "2139700",
         "2089700"
        ],
        [
         "204",
         "2017",
         "19",
         "215.0",
         "2127.5",
         "7940.0",
         "35.0",
         "2101700",
         "2160900"
        ],
        [
         "239",
         "2017",
         "56",
         "782.5",
         "9467.5",
         "24340.0",
         "38.0",
         "2101700",
         "2160900"
        ],
        [
         "827",
         "2023",
         "86",
         "477.5",
         "7167.5",
         "19060.0",
         "67.0",
         "2108100",
         "2131300"
        ],
        [
         "694",
         "2022",
         "45",
         "1069.1666666666667",
         "11187.5",
         "24010.0",
         "67.0",
         "2156200",
         "2080500"
        ],
        [
         "549",
         "2020",
         "87",
         "395.8333333333333",
         "2565.0",
         "12970.0",
         "55.0",
         "1874400",
         "1974600"
        ],
        [
         "314",
         "2018",
         "37",
         "650.8333333333334",
         "8455.0",
         "17970.0",
         "46.0",
         "2072900",
         "2077300"
        ],
        [
         "254",
         "2017",
         "71",
         "395.8333333333333",
         "4312.5",
         "12290.0",
         "36.5",
         "2101700",
         "2160900"
        ],
        [
         "468",
         "2020",
         "04",
         "215.83333333333334",
         "1232.5",
         "10750.0",
         "42.0",
         "1874400",
         "1974600"
        ],
        [
         "753",
         "2023",
         "10",
         "463.3333333333333",
         "3937.5",
         "14870.0",
         "56.0",
         "2108100",
         "2131300"
        ],
        [
         "90",
         "2015",
         "93",
         "800.8333333333334",
         "10975.0",
         "27900.0",
         "31.0",
         "1904800",
         "1999900"
        ],
        [
         "784",
         "2023",
         "42",
         "1169.1666666666667",
         "10297.5",
         "25240.0",
         "63.0",
         "2108100",
         "2131300"
        ],
        [
         "181",
         "2016",
         "91",
         "988.3333333333334",
         "9177.5",
         "22710.0",
         "35.0",
         "2160300",
         "2172000"
        ],
        [
         "519",
         "2020",
         "57",
         "1146.6666666666667",
         "8847.5",
         "28870.0",
         "58.0",
         "1874400",
         "1974600"
        ],
        [
         "382",
         "2019",
         "11",
         "516.6666666666666",
         "4595.0",
         "17540.0",
         "41.0",
         "2139700",
         "2089700"
        ],
        [
         "507",
         "2020",
         "44",
         "1470.0",
         "16577.5",
         "81730.0",
         "60.0",
         "1874400",
         "1974600"
        ],
        [
         "158",
         "2016",
         "68",
         "1011.6666666666666",
         "7335.0",
         "17700.0",
         "29.0",
         "2160300",
         "2172000"
        ],
        [
         "69",
         "2015",
         "72",
         "372.0833333333333",
         "3390.0",
         "9505.0",
         "37.5",
         "1904800",
         "1999900"
        ],
        [
         "483",
         "2020",
         "19",
         "254.16666666666666",
         "1732.5",
         "10620.0",
         "65.0",
         "1874400",
         "1974600"
        ]
       ],
       "shape": {
        "columns": 8,
        "rows": 669
       }
      },
      "text/html": [
       "<div>\n",
       "<style scoped>\n",
       "    .dataframe tbody tr th:only-of-type {\n",
       "        vertical-align: middle;\n",
       "    }\n",
       "\n",
       "    .dataframe tbody tr th {\n",
       "        vertical-align: top;\n",
       "    }\n",
       "\n",
       "    .dataframe thead th {\n",
       "        text-align: right;\n",
       "    }\n",
       "</style>\n",
       "<table border=\"1\" class=\"dataframe\">\n",
       "  <thead>\n",
       "    <tr style=\"text-align: right;\">\n",
       "      <th></th>\n",
       "      <th>TIME_PERIOD</th>\n",
       "      <th>GEO</th>\n",
       "      <th>number_courses</th>\n",
       "      <th>job_offer</th>\n",
       "      <th>need_for_manpower</th>\n",
       "      <th>difficult_recruitment</th>\n",
       "      <th>out_of_list</th>\n",
       "      <th>entry_on_list</th>\n",
       "    </tr>\n",
       "  </thead>\n",
       "  <tbody>\n",
       "    <tr>\n",
       "      <th>363</th>\n",
       "      <td>2018</td>\n",
       "      <td>87</td>\n",
       "      <td>354.166667</td>\n",
       "      <td>3652.5</td>\n",
       "      <td>9870.0</td>\n",
       "      <td>49.0</td>\n",
       "      <td>2072900</td>\n",
       "      <td>2077300</td>\n",
       "    </tr>\n",
       "    <tr>\n",
       "      <th>250</th>\n",
       "      <td>2017</td>\n",
       "      <td>67</td>\n",
       "      <td>842.500000</td>\n",
       "      <td>14082.5</td>\n",
       "      <td>30950.0</td>\n",
       "      <td>40.0</td>\n",
       "      <td>2101700</td>\n",
       "      <td>2160900</td>\n",
       "    </tr>\n",
       "    <tr>\n",
       "      <th>465</th>\n",
       "      <td>2020</td>\n",
       "      <td>01</td>\n",
       "      <td>634.166667</td>\n",
       "      <td>5077.5</td>\n",
       "      <td>20940.0</td>\n",
       "      <td>59.0</td>\n",
       "      <td>1874400</td>\n",
       "      <td>1974600</td>\n",
       "    </tr>\n",
       "    <tr>\n",
       "      <th>346</th>\n",
       "      <td>2018</td>\n",
       "      <td>70</td>\n",
       "      <td>233.333333</td>\n",
       "      <td>1592.5</td>\n",
       "      <td>5330.0</td>\n",
       "      <td>37.0</td>\n",
       "      <td>2072900</td>\n",
       "      <td>2077300</td>\n",
       "    </tr>\n",
       "    <tr>\n",
       "      <th>585</th>\n",
       "      <td>2021</td>\n",
       "      <td>29</td>\n",
       "      <td>1427.500000</td>\n",
       "      <td>11745.0</td>\n",
       "      <td>37760.0</td>\n",
       "      <td>54.0</td>\n",
       "      <td>2118300</td>\n",
       "      <td>1994800</td>\n",
       "    </tr>\n",
       "    <tr>\n",
       "      <th>...</th>\n",
       "      <td>...</td>\n",
       "      <td>...</td>\n",
       "      <td>...</td>\n",
       "      <td>...</td>\n",
       "      <td>...</td>\n",
       "      <td>...</td>\n",
       "      <td>...</td>\n",
       "      <td>...</td>\n",
       "    </tr>\n",
       "    <tr>\n",
       "      <th>71</th>\n",
       "      <td>2015</td>\n",
       "      <td>74</td>\n",
       "      <td>558.333333</td>\n",
       "      <td>9055.0</td>\n",
       "      <td>24125.0</td>\n",
       "      <td>33.0</td>\n",
       "      <td>1904800</td>\n",
       "      <td>1999900</td>\n",
       "    </tr>\n",
       "    <tr>\n",
       "      <th>106</th>\n",
       "      <td>2016</td>\n",
       "      <td>14</td>\n",
       "      <td>881.666667</td>\n",
       "      <td>6930.0</td>\n",
       "      <td>17520.0</td>\n",
       "      <td>32.0</td>\n",
       "      <td>2160300</td>\n",
       "      <td>2172000</td>\n",
       "    </tr>\n",
       "    <tr>\n",
       "      <th>270</th>\n",
       "      <td>2017</td>\n",
       "      <td>87</td>\n",
       "      <td>332.500000</td>\n",
       "      <td>3087.5</td>\n",
       "      <td>7830.0</td>\n",
       "      <td>37.0</td>\n",
       "      <td>2101700</td>\n",
       "      <td>2160900</td>\n",
       "    </tr>\n",
       "    <tr>\n",
       "      <th>435</th>\n",
       "      <td>2019</td>\n",
       "      <td>66</td>\n",
       "      <td>660.833333</td>\n",
       "      <td>4787.5</td>\n",
       "      <td>26150.0</td>\n",
       "      <td>33.0</td>\n",
       "      <td>2139700</td>\n",
       "      <td>2089700</td>\n",
       "    </tr>\n",
       "    <tr>\n",
       "      <th>102</th>\n",
       "      <td>2016</td>\n",
       "      <td>10</td>\n",
       "      <td>510.000000</td>\n",
       "      <td>3327.5</td>\n",
       "      <td>11920.0</td>\n",
       "      <td>27.0</td>\n",
       "      <td>2160300</td>\n",
       "      <td>2172000</td>\n",
       "    </tr>\n",
       "  </tbody>\n",
       "</table>\n",
       "<p>669 rows × 8 columns</p>\n",
       "</div>"
      ],
      "text/plain": [
       "     TIME_PERIOD GEO  number_courses  job_offer  need_for_manpower  \\\n",
       "363         2018  87      354.166667     3652.5             9870.0   \n",
       "250         2017  67      842.500000    14082.5            30950.0   \n",
       "465         2020  01      634.166667     5077.5            20940.0   \n",
       "346         2018  70      233.333333     1592.5             5330.0   \n",
       "585         2021  29     1427.500000    11745.0            37760.0   \n",
       "..           ...  ..             ...        ...                ...   \n",
       "71          2015  74      558.333333     9055.0            24125.0   \n",
       "106         2016  14      881.666667     6930.0            17520.0   \n",
       "270         2017  87      332.500000     3087.5             7830.0   \n",
       "435         2019  66      660.833333     4787.5            26150.0   \n",
       "102         2016  10      510.000000     3327.5            11920.0   \n",
       "\n",
       "     difficult_recruitment  out_of_list  entry_on_list  \n",
       "363                   49.0      2072900        2077300  \n",
       "250                   40.0      2101700        2160900  \n",
       "465                   59.0      1874400        1974600  \n",
       "346                   37.0      2072900        2077300  \n",
       "585                   54.0      2118300        1994800  \n",
       "..                     ...          ...            ...  \n",
       "71                    33.0      1904800        1999900  \n",
       "106                   32.0      2160300        2172000  \n",
       "270                   37.0      2101700        2160900  \n",
       "435                   33.0      2139700        2089700  \n",
       "102                   27.0      2160300        2172000  \n",
       "\n",
       "[669 rows x 8 columns]"
      ]
     },
     "execution_count": 2,
     "metadata": {},
     "output_type": "execute_result"
    }
   ],
   "source": [
    "X_df"
   ]
  },
  {
   "cell_type": "markdown",
   "metadata": {},
   "source": [
    "# Challenge evaluation\n",
    "\n",
    "A particularly important point in a challenge is to describe how it is evaluated. This is the section where you should describe the metric that will be used to evaluate the participants' submissions, as well as your evaluation strategy, in particular if there is some complexity in the way the data should be split to ensure valid results."
   ]
  },
  {
   "cell_type": "markdown",
   "metadata": {},
   "source": [
    "# Submission format\n",
    "\n",
    "Here, you should describe the submission format. This is the format the participants should follow to submit their predictions on the RAMP plateform.\n",
    "\n",
    "This section also show how to use the `ramp-workflow` library to test the submission locally."
   ]
  },
  {
   "cell_type": "markdown",
   "metadata": {},
   "source": [
    "## The pipeline workflow\n",
    "\n",
    "The input data are stored in a dataframe. To go from a dataframe to a numpy array we will use a scikit-learn column transformer. The first example we will write will just consist in selecting a subset of columns we want to work with."
   ]
  },
  {
   "cell_type": "code",
   "execution_count": 5,
   "metadata": {},
   "outputs": [],
   "source": [
    "# %load submissions/starting_kit/estimator.py\n",
    "\n",
    "from sklearn.pipeline import make_pipeline\n",
    "from sklearn.preprocessing import StandardScaler, OneHotEncoder\n",
    "from sklearn.linear_model import LinearRegression\n",
    "from sklearn.compose import make_column_transformer\n",
    "from sklearn.impute import SimpleImputer\n",
    "\n",
    "cols = ['GEO', 'SEX', 'TIME_PERIOD', 'EMPSTA_ENQ_1', 'EMPSTA_ENQ_31', 'EMPSTA_ENQ_33',\n",
    "       'EMPSTA_ENQ_35', 'EMPSTA_ENQ_36']\n",
    "\n",
    "categorical_cols = ['GEO', 'SEX', 'TIME_PERIOD']\n",
    "numerical_cols = ['EMPSTA_ENQ_1', 'EMPSTA_ENQ_31', 'EMPSTA_ENQ_33', 'EMPSTA_ENQ_35', 'EMPSTA_ENQ_36']\n",
    "\n",
    "transformer = make_column_transformer(\n",
    "    (OneHotEncoder(handle_unknown='ignore'), categorical_cols),\n",
    "    ('passthrough', numerical_cols)\n",
    ")\n",
    "\n",
    "def get_estimator():\n",
    "    pipe = make_pipeline(\n",
    "        transformer,\n",
    "        SimpleImputer(strategy='most_frequent'),\n",
    "        LinearRegression()\n",
    "    )\n",
    "\n",
    "    return pipe\n"
   ]
  },
  {
   "cell_type": "code",
   "execution_count": 3,
   "metadata": {},
   "outputs": [
    {
     "name": "stdout",
     "output_type": "stream",
     "text": [
      "[538.3485782  692.07410525 566.72776386 568.07751541 549.95466346]\n"
     ]
    }
   ],
   "source": [
    "from skrub import tabular_learner\n",
    "from sklearn.model_selection import cross_val_score\n",
    "scores = cross_val_score(tabular_learner('regressor'), X_df, y, scoring='neg_median_absolute_error')\n",
    "print(-scores)"
   ]
  },
  {
   "cell_type": "markdown",
   "metadata": {},
   "source": [
    "## Testing using a scikit-learn pipeline"
   ]
  },
  {
   "cell_type": "code",
   "execution_count": 2,
   "metadata": {},
   "outputs": [
    {
     "ename": "NameError",
     "evalue": "name 'get_estimator' is not defined",
     "output_type": "error",
     "traceback": [
      "\u001b[1;31m---------------------------------------------------------------------------\u001b[0m",
      "\u001b[1;31mNameError\u001b[0m                                 Traceback (most recent call last)",
      "Cell \u001b[1;32mIn[2], line 3\u001b[0m\n\u001b[0;32m      1\u001b[0m \u001b[38;5;28;01mfrom\u001b[39;00m \u001b[38;5;21;01msklearn\u001b[39;00m\u001b[38;5;21;01m.\u001b[39;00m\u001b[38;5;21;01mmodel_selection\u001b[39;00m \u001b[38;5;28;01mimport\u001b[39;00m cross_val_score\n\u001b[1;32m----> 3\u001b[0m scores \u001b[38;5;241m=\u001b[39m cross_val_score(get_estimator(), X_df, y, cv\u001b[38;5;241m=\u001b[39m\u001b[38;5;241m3\u001b[39m, scoring\u001b[38;5;241m=\u001b[39m\u001b[38;5;124m'\u001b[39m\u001b[38;5;124mneg_median_absolute_error\u001b[39m\u001b[38;5;124m'\u001b[39m)\n\u001b[0;32m      4\u001b[0m \u001b[38;5;28mprint\u001b[39m(\u001b[38;5;241m-\u001b[39mscores)\n",
      "\u001b[1;31mNameError\u001b[0m: name 'get_estimator' is not defined"
     ]
    }
   ],
   "source": [
    "from sklearn.model_selection import cross_val_score\n",
    "\n",
    "scores = cross_val_score(get_estimator(), X_df, y, cv=3, scoring='neg_median_absolute_error')\n",
    "print(-scores)"
   ]
  },
  {
   "cell_type": "markdown",
   "metadata": {},
   "source": [
    "## Submission\n",
    "\n",
    "To submit your code, you can refer to the [online documentation](https://paris-saclay-cds.github.io/ramp-docs/ramp-workflow/stable/using_kits.html)."
   ]
  }
 ],
 "metadata": {
  "kernelspec": {
   "display_name": "ramp-variable-stars",
   "language": "python",
   "name": "python3"
  },
  "language_info": {
   "codemirror_mode": {
    "name": "ipython",
    "version": 3
   },
   "file_extension": ".py",
   "mimetype": "text/x-python",
   "name": "python",
   "nbconvert_exporter": "python",
   "pygments_lexer": "ipython3",
   "version": "3.12.8"
  }
 },
 "nbformat": 4,
 "nbformat_minor": 1
}
